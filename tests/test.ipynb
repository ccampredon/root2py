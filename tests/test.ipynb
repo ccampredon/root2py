{
 "cells": [
  {
   "cell_type": "code",
   "execution_count": 1,
   "metadata": {},
   "outputs": [],
   "source": [
    "from root2py.root2py import open\n",
    "#from root2py.root2py import save"
   ]
  },
  {
   "cell_type": "code",
   "execution_count": 2,
   "metadata": {},
   "outputs": [],
   "source": [
    "tree=\"FloatingpointMixedbcstcrealsig4DummyHistomaxxydr015GenmatchGenclustersntuple/HGCalTriggerNtuple\"\n",
    "branches= [\"good_cl3d_pt\",\"good_cl3d_eta\"]\n",
    "input = \"skim_small_photons_0PU_bc_stc_hadd.root\"\n",
    "output = \"skim_small_photons_0PU_bc_stc_hadd.hdf5\"\n"
   ]
  },
  {
   "cell_type": "code",
   "execution_count": 3,
   "metadata": {},
   "outputs": [
    {
     "name": "stdout",
     "output_type": "stream",
     "text": [
      "[{good_cl3d_pt: [12], good_cl3d_eta: [2.09]}, ..., {good_cl3d_pt: [43.4], ...}]\n"
     ]
    }
   ],
   "source": [
    "\n",
    "      \n",
    "df = open(input,tree,branches=[\"good_cl3d_pt\",\"good_cl3d_eta\"])\n",
    "print(df)"
   ]
  },
  {
   "cell_type": "code",
   "execution_count": null,
   "metadata": {},
   "outputs": [],
   "source": [
    "import pandas as pd\n",
    "def save(filename: str,branches: list):\n",
    "    store = pd.HDFStore(filename, mode='w')\n",
    "    for i in range(len(branches)):\n",
    "        print(branches[i])\n",
    "        store[branches[i]] = branches[i]\n",
    "        store.close()\n",
    "        print (\"opened file\")\n",
    "        print(filename) \n",
    "    return store\n",
    "\n",
    "df2 = save(output,branches=[\"good_cl3d_pt\",\"good_cl3d_eta\"])"
   ]
  }
 ],
 "metadata": {
  "kernelspec": {
   "display_name": "root2py",
   "language": "python",
   "name": "python3"
  },
  "language_info": {
   "codemirror_mode": {
    "name": "ipython",
    "version": 3
   },
   "file_extension": ".py",
   "mimetype": "text/x-python",
   "name": "python",
   "nbconvert_exporter": "python",
   "pygments_lexer": "ipython3",
   "version": "3.9.16"
  },
  "orig_nbformat": 4,
  "vscode": {
   "interpreter": {
    "hash": "0cd6c01bcb555d4740b6b033f0355cf0e76b4fd28850768589c5bbefd6cc5b20"
   }
  }
 },
 "nbformat": 4,
 "nbformat_minor": 2
}
