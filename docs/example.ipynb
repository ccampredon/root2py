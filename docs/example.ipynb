{
 "cells": [
  {
   "attachments": {},
   "cell_type": "markdown",
   "metadata": {},
   "source": [
    "Required additional package"
   ]
  },
  {
   "cell_type": "code",
   "execution_count": 1,
   "metadata": {},
   "outputs": [],
   "source": [
    "from root2py.root2py import open\n",
    "from root2py.root2py import savehdf\n",
    "from root2py.root2py import savepkl\n",
    "import pandas as pd\n",
    "import awkward as ak"
   ]
  },
  {
   "attachments": {},
   "cell_type": "markdown",
   "metadata": {},
   "source": [
    "User defined inputs from the input root files"
   ]
  },
  {
   "cell_type": "code",
   "execution_count": 2,
   "metadata": {},
   "outputs": [],
   "source": [
    "treename=\"FloatingpointMixedbcstcrealsig4DummyHistomaxxydr015GenmatchGenclustersntuple/HGCalTriggerNtuple\"  ###Name of the tree in the root file\n",
    "branchename= [\"good_cl3d_pt\",\"good_cl3d_eta\"] ###Name of the branches that user wants to save as hdf or pkl\n",
    "input = \"skim_small_photons_0PU_bc_stc_hadd.root\" ###Input root file path\n",
    "output = \"skim_small_photons_0PU_bc_stc_hadd.hdf5\" ###Output hdf path\n",
    "output2 = \"skim_small_photons_0PU_bc_stc_hadd.pkl\" ###Output pkl path\n"
   ]
  },
  {
   "attachments": {},
   "cell_type": "markdown",
   "metadata": {},
   "source": [
    "Test function to open the root file using uproot"
   ]
  },
  {
   "cell_type": "code",
   "execution_count": 3,
   "metadata": {},
   "outputs": [
    {
     "name": "stdout",
     "output_type": "stream",
     "text": [
      "[{good_cl3d_pt: [12], good_cl3d_eta: [2.09]}, ..., {good_cl3d_pt: [43.4], ...}]\n"
     ]
    }
   ],
   "source": [
    "df= open(filename=input,branches=branchename,tree=treename)\n",
    "print(df)"
   ]
  },
  {
   "attachments": {},
   "cell_type": "markdown",
   "metadata": {},
   "source": [
    "Test function saving the root file in hdf format"
   ]
  },
  {
   "cell_type": "code",
   "execution_count": 4,
   "metadata": {},
   "outputs": [],
   "source": [
    "df2 = savehdf(output,filename=input,branches=branchename,tree=treename)"
   ]
  },
  {
   "attachments": {},
   "cell_type": "markdown",
   "metadata": {},
   "source": [
    "Reopening the saved hdf"
   ]
  },
  {
   "cell_type": "code",
   "execution_count": 5,
   "metadata": {},
   "outputs": [
    {
     "name": "stdout",
     "output_type": "stream",
     "text": [
      "                good_cl3d_pt  good_cl3d_eta\n",
      "entry subentry                             \n",
      "0     0            12.032052       2.094059\n",
      "1     0            12.971869       2.861422\n",
      "2     0            11.951330       2.997753\n",
      "3     0            69.728294       1.872296\n",
      "4     0            34.215042       2.337992\n",
      "...                      ...            ...\n",
      "62    0            39.061638       2.661662\n",
      "63    0            58.179455       1.555362\n",
      "64    0            47.788395       2.155745\n",
      "65    0            74.011887       2.268816\n",
      "66    0            43.360073       2.571901\n",
      "\n",
      "[67 rows x 2 columns]\n"
     ]
    }
   ],
   "source": [
    "blah = pd.read_hdf(output)\n",
    "print(blah)"
   ]
  },
  {
   "attachments": {},
   "cell_type": "markdown",
   "metadata": {},
   "source": [
    "Test function saving the root file in pkl format"
   ]
  },
  {
   "cell_type": "code",
   "execution_count": 6,
   "metadata": {},
   "outputs": [],
   "source": [
    "df2 = savepkl(output2,filename=input,branches=branchename,tree=treename)"
   ]
  },
  {
   "attachments": {},
   "cell_type": "markdown",
   "metadata": {},
   "source": [
    "Reopening the saved pkl"
   ]
  },
  {
   "cell_type": "code",
   "execution_count": 7,
   "metadata": {},
   "outputs": [
    {
     "name": "stdout",
     "output_type": "stream",
     "text": [
      "                good_cl3d_pt  good_cl3d_eta\n",
      "entry subentry                             \n",
      "0     0            12.032052       2.094059\n",
      "1     0            12.971869       2.861422\n",
      "2     0            11.951330       2.997753\n",
      "3     0            69.728294       1.872296\n",
      "4     0            34.215042       2.337992\n",
      "...                      ...            ...\n",
      "62    0            39.061638       2.661662\n",
      "63    0            58.179455       1.555362\n",
      "64    0            47.788395       2.155745\n",
      "65    0            74.011887       2.268816\n",
      "66    0            43.360073       2.571901\n",
      "\n",
      "[67 rows x 2 columns]\n"
     ]
    }
   ],
   "source": [
    "unpickled_df = pd.read_pickle(output2)\n",
    "print(unpickled_df)"
   ]
  }
 ],
 "metadata": {
  "kernelspec": {
   "display_name": "root2py",
   "language": "python",
   "name": "python3"
  },
  "language_info": {
   "codemirror_mode": {
    "name": "ipython",
    "version": 3
   },
   "file_extension": ".py",
   "mimetype": "text/x-python",
   "name": "python",
   "nbconvert_exporter": "python",
   "pygments_lexer": "ipython3",
   "version": "3.9.16 (main, Jan 11 2023, 10:02:19) \n[Clang 14.0.6 ]"
  },
  "orig_nbformat": 4,
  "vscode": {
   "interpreter": {
    "hash": "0cd6c01bcb555d4740b6b033f0355cf0e76b4fd28850768589c5bbefd6cc5b20"
   }
  }
 },
 "nbformat": 4,
 "nbformat_minor": 2
}
